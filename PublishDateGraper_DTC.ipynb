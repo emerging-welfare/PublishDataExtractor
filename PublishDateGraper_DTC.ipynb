{
 "cells": [
  {
   "cell_type": "code",
   "execution_count": 23,
   "metadata": {},
   "outputs": [],
   "source": [
    "import os.path,subprocess\n",
    "from subprocess import STDOUT,PIPE\n",
    "import pandas as pd "
   ]
  },
  {
   "cell_type": "code",
   "execution_count": 24,
   "metadata": {},
   "outputs": [],
   "source": [
    "def compile_java(compileCmd):\n",
    "    try:\n",
    "        cmd = compileCmd.split()\n",
    "        proc = subprocess.Popen(cmd, stdout=PIPE, stderr=STDOUT)\n",
    "        stdout,stderr = proc.communicate()\n",
    "        print (stdout)\n",
    "    except  subprocess.CalledProcessError as e:\n",
    "        print (e)\n",
    "def execute_java(excuteCmd):\n",
    "    try:\n",
    "        cmd = excuteCmd.split()\n",
    "        proc = subprocess.Popen(cmd, stdout=PIPE, stderr=STDOUT)\n",
    "        stdout,stderr = proc.communicate()\n",
    "        stdout=stdout.decode('utf-8').replace('\\n','\\t').split('\\t')\n",
    "        outPutdic=dict()\n",
    "        i=0\n",
    "        while i < len(stdout):\n",
    "            if i==len(stdout)-1:\n",
    "                break\n",
    "            outPutdic[stdout[i]]=stdout[i+1]\n",
    "            i += 2\n",
    "        return outPutdic\n",
    "    except  subprocess.CalledProcessError as e:\n",
    "        print (e)\n",
    "    "
   ]
  },
  {
   "cell_type": "code",
   "execution_count": 25,
   "metadata": {},
   "outputs": [],
   "source": [
    "compileCmd='javac -cp .:DTC/dct-finder-2015-01-22.jar:DTC/commons-lang3-3.8.1.jar:DTC/commons-cli-1.4.jar  DTC/main.java -d .'"
   ]
  },
  {
   "cell_type": "code",
   "execution_count": 26,
   "metadata": {},
   "outputs": [],
   "source": [
    "#dirPath=os.path.join(os.getcwd(),'demo')\n",
    "dirPath='/Users/abdulrhmanalabrash/Desktop/demo'\n",
    "excuteCmd='java -cp .:DTC/dct-finder-2015-01-22.jar:DTC/commons-lang3-3.8.1.jar:DTC/commons-cli-1.4.jar DTC.main %s'%dirPath"
   ]
  },
  {
   "cell_type": "code",
   "execution_count": 27,
   "metadata": {},
   "outputs": [
    {
     "name": "stdout",
     "output_type": "stream",
     "text": [
      "b''\n"
     ]
    }
   ],
   "source": [
    "compile_java(compileCmd)"
   ]
  },
  {
   "cell_type": "code",
   "execution_count": 28,
   "metadata": {},
   "outputs": [
    {
     "data": {
      "text/html": [
       "<div>\n",
       "<style scoped>\n",
       "    .dataframe tbody tr th:only-of-type {\n",
       "        vertical-align: middle;\n",
       "    }\n",
       "\n",
       "    .dataframe tbody tr th {\n",
       "        vertical-align: top;\n",
       "    }\n",
       "\n",
       "    .dataframe thead th {\n",
       "        text-align: right;\n",
       "    }\n",
       "</style>\n",
       "<table border=\"1\" class=\"dataframe\">\n",
       "  <thead>\n",
       "    <tr style=\"text-align: right;\">\n",
       "      <th></th>\n",
       "      <th>Page Name</th>\n",
       "      <th>Published Data</th>\n",
       "    </tr>\n",
       "  </thead>\n",
       "  <tbody>\n",
       "    <tr>\n",
       "      <th>0</th>\n",
       "      <td>Apple iPhone XI sees new set of renders ‘leake...</td>\n",
       "      <td>Wed Jan 16 00:00:00 EET 2019</td>\n",
       "    </tr>\n",
       "    <tr>\n",
       "      <th>1</th>\n",
       "      <td>Assam_ Man accused of raping his daughter kill...</td>\n",
       "      <td>Sat Jun 16 00:00:00 EET 2018</td>\n",
       "    </tr>\n",
       "    <tr>\n",
       "      <th>2</th>\n",
       "      <td>BJP creating nuisance, crisis to fizzle out so...</td>\n",
       "      <td>Wed Jan 16 00:00:00 EET 2019</td>\n",
       "    </tr>\n",
       "    <tr>\n",
       "      <th>3</th>\n",
       "      <td>Former Union minister CP Joshi elected speaker...</td>\n",
       "      <td>Wed Jan 16 00:00:00 EET 2019</td>\n",
       "    </tr>\n",
       "    <tr>\n",
       "      <th>4</th>\n",
       "      <td>In Good Faith_ Rumi’s challenge _ The Indian E...</td>\n",
       "      <td>Wed Jan 16 00:00:00 EET 2019</td>\n",
       "    </tr>\n",
       "  </tbody>\n",
       "</table>\n",
       "</div>"
      ],
      "text/plain": [
       "                                           Page Name  \\\n",
       "0  Apple iPhone XI sees new set of renders ‘leake...   \n",
       "1  Assam_ Man accused of raping his daughter kill...   \n",
       "2  BJP creating nuisance, crisis to fizzle out so...   \n",
       "3  Former Union minister CP Joshi elected speaker...   \n",
       "4  In Good Faith_ Rumi’s challenge _ The Indian E...   \n",
       "\n",
       "                 Published Data  \n",
       "0  Wed Jan 16 00:00:00 EET 2019  \n",
       "1  Sat Jun 16 00:00:00 EET 2018  \n",
       "2  Wed Jan 16 00:00:00 EET 2019  \n",
       "3  Wed Jan 16 00:00:00 EET 2019  \n",
       "4  Wed Jan 16 00:00:00 EET 2019  "
      ]
     },
     "execution_count": 28,
     "metadata": {},
     "output_type": "execute_result"
    }
   ],
   "source": [
    "outputTable=pd.DataFrame(execute_java(excuteCmd),index=range(1)).transpose().reset_index()\n",
    "outputTable.columns=['Page Name','Published Data']\n",
    "outputTable.head()\n"
   ]
  },
  {
   "cell_type": "code",
   "execution_count": null,
   "metadata": {},
   "outputs": [],
   "source": []
  }
 ],
 "metadata": {
  "kernelspec": {
   "display_name": "Python 3",
   "language": "python",
   "name": "python3"
  },
  "language_info": {
   "codemirror_mode": {
    "name": "ipython",
    "version": 3
   },
   "file_extension": ".py",
   "mimetype": "text/x-python",
   "name": "python",
   "nbconvert_exporter": "python",
   "pygments_lexer": "ipython3",
   "version": "3.6.4"
  }
 },
 "nbformat": 4,
 "nbformat_minor": 2
}
